{
  "cells": [
    {
      "cell_type": "markdown",
      "metadata": {
        "id": "1dKZHFJOahaR"
      },
      "source": [
        "# Import the required modules."
      ]
    },
    {
      "cell_type": "code",
      "source": [
        "from google.colab import drive\n",
        "drive.mount('/content/drive',force_remount=True)\n"
      ],
      "metadata": {
        "colab": {
          "base_uri": "https://localhost:8080/"
        },
        "id": "NjrIrjvoa71g",
        "outputId": "556201ef-9c5a-4ee3-a8a7-e63ded621ede"
      },
      "execution_count": null,
      "outputs": [
        {
          "output_type": "stream",
          "name": "stdout",
          "text": [
            "Mounted at /content/drive\n"
          ]
        }
      ]
    },
    {
      "cell_type": "code",
      "execution_count": null,
      "metadata": {
        "id": "1fJk7zmMjcFm"
      },
      "outputs": [],
      "source": [
        "import numpy as np\n",
        "import pandas as pd\n",
        "import matplotlib.pyplot as plt\n",
        "\n",
        "import seaborn as sns; sns.set()"
      ]
    },
    {
      "cell_type": "code",
      "source": [
        "pip install np_utils"
      ],
      "metadata": {
        "colab": {
          "base_uri": "https://localhost:8080/"
        },
        "id": "fDRn10Xrb31E",
        "outputId": "8c5c723a-0835-4222-9328-de5c4c0c0a70"
      },
      "execution_count": null,
      "outputs": [
        {
          "output_type": "stream",
          "name": "stdout",
          "text": [
            "Collecting np_utils\n",
            "  Downloading np_utils-0.6.0.tar.gz (61 kB)\n",
            "\u001b[?25l     \u001b[90m━━━━━━━━━━━━━━━━━━━━━━━━━━━━━━━━━━━━━━━━\u001b[0m \u001b[32m0.0/62.0 kB\u001b[0m \u001b[31m?\u001b[0m eta \u001b[36m-:--:--\u001b[0m\r\u001b[2K     \u001b[90m━━━━━━━━━━━━━━━━━━━━━━━━━━━━━━━━━━━━━━━━\u001b[0m \u001b[32m62.0/62.0 kB\u001b[0m \u001b[31m1.7 MB/s\u001b[0m eta \u001b[36m0:00:00\u001b[0m\n",
            "\u001b[?25h  Preparing metadata (setup.py) ... \u001b[?25l\u001b[?25hdone\n",
            "Requirement already satisfied: numpy>=1.0 in /usr/local/lib/python3.10/dist-packages (from np_utils) (1.25.2)\n",
            "Building wheels for collected packages: np_utils\n",
            "  Building wheel for np_utils (setup.py) ... \u001b[?25l\u001b[?25hdone\n",
            "  Created wheel for np_utils: filename=np_utils-0.6.0-py3-none-any.whl size=56439 sha256=bd670009811225e7bbef078020ff603e701a4fc887dcee48453feaad1841330b\n",
            "  Stored in directory: /root/.cache/pip/wheels/b6/c7/50/2307607f44366dd021209f660045f8d51cb976514d30be7cc7\n",
            "Successfully built np_utils\n",
            "Installing collected packages: np_utils\n",
            "Successfully installed np_utils-0.6.0\n"
          ]
        }
      ]
    },
    {
      "cell_type": "code",
      "execution_count": null,
      "metadata": {
        "id": "MOKVbdzBjlmP"
      },
      "outputs": [],
      "source": [
        "from keras.models import Sequential, load_model\n",
        "from keras.layers import Dense, LSTM, Bidirectional\n",
        "from keras.utils import plot_model\n",
        "from keras.utils import to_categorical\n",
        "# import np_utils\n",
        "\n",
        "from sklearn.model_selection import train_test_split\n",
        "from sklearn.preprocessing import LabelEncoder, StandardScaler\n",
        "from sklearn.metrics import confusion_matrix"
      ]
    },
    {
      "cell_type": "markdown",
      "metadata": {
        "id": "V5p8JxCnahaT"
      },
      "source": [
        "# number_of_samples determine how many samples from the attack and normal dataset should be read and used."
      ]
    },
    {
      "cell_type": "code",
      "execution_count": null,
      "metadata": {
        "id": "u7H2jNs1csN2"
      },
      "outputs": [],
      "source": []
    },
    {
      "cell_type": "code",
      "source": [
        "# data=pd.read_csv('/content/drive/MyDrive/MachineLearningCSV/DeepDefense-master/Datasets/dataset_normal.csv')"
      ],
      "metadata": {
        "id": "JLvGIqv_bIOu"
      },
      "execution_count": null,
      "outputs": []
    },
    {
      "cell_type": "code",
      "source": [
        "# data.shape"
      ],
      "metadata": {
        "colab": {
          "base_uri": "https://localhost:8080/"
        },
        "id": "xt3fzPjfcJGO",
        "outputId": "0ab2d8f4-91c2-4788-e386-b72db9cab66f"
      },
      "execution_count": null,
      "outputs": [
        {
          "output_type": "execute_result",
          "data": {
            "text/plain": [
              "(10000, 29)"
            ]
          },
          "metadata": {},
          "execution_count": 4
        }
      ]
    },
    {
      "cell_type": "code",
      "source": [
        "# from google.colab import drive\n",
        "# # drive.mount('/content/drive')"
      ],
      "metadata": {
        "id": "LTFW1r-TbMR1"
      },
      "execution_count": null,
      "outputs": []
    },
    {
      "cell_type": "markdown",
      "metadata": {
        "id": "9Romm9RBahaT"
      },
      "source": [
        "# Read data from attack and normal datasets."
      ]
    },
    {
      "cell_type": "code",
      "execution_count": null,
      "metadata": {
        "id": "WkSbWhYPjpdP"
      },
      "outputs": [],
      "source": [
        "data_attack = pd.read_csv('/content/drive/MyDrive/MachineLearningCSV/DeepDefense-master/Datasets/dataset_attackfinal.csv', nrows = 150000)"
      ]
    },
    {
      "cell_type": "code",
      "execution_count": null,
      "metadata": {
        "id": "MlnVmtsDj0Af"
      },
      "outputs": [],
      "source": [
        "data_normal = pd.read_csv('/content/drive/MyDrive/MachineLearningCSV/DeepDefense-master/Datasets/dataset_normalfinal.csv', nrows = 100000)"
      ]
    },
    {
      "cell_type": "code",
      "execution_count": null,
      "metadata": {
        "id": "kMoOG1gDj1eJ"
      },
      "outputs": [],
      "source": [
        "data_normal.columns=[ 'frame.len', 'frame.protocols', 'ip.hdr_len',\n",
        "       'ip.len', 'ip.flags.rb', 'ip.flags.df', 'p.flags.mf', 'ip.frag_offset',\n",
        "       'ip.ttl', 'ip.proto', 'ip.src', 'ip.dst', 'tcp.srcport', 'tcp.dstport',\n",
        "       'tcp.len', 'tcp.ack', 'tcp.flags.res', 'tcp.flags.ns', 'tcp.flags.cwr',\n",
        "       'tcp.flags.ecn', 'tcp.flags.urg', 'tcp.flags.ack', 'tcp.flags.push',\n",
        "       'tcp.flags.reset', 'tcp.flags.syn', 'tcp.flags.fin', 'tcp.window_size',\n",
        "       'tcp.time_delta','class']\n",
        "data_attack.columns=[ 'frame.len', 'frame.protocols', 'ip.hdr_len',\n",
        "       'ip.len', 'ip.flags.rb', 'ip.flags.df', 'p.flags.mf', 'ip.frag_offset',\n",
        "       'ip.ttl', 'ip.proto', 'ip.src', 'ip.dst', 'tcp.srcport', 'tcp.dstport',\n",
        "       'tcp.len', 'tcp.ack', 'tcp.flags.res', 'tcp.flags.ns', 'tcp.flags.cwr',\n",
        "       'tcp.flags.ecn', 'tcp.flags.urg', 'tcp.flags.ack', 'tcp.flags.push',\n",
        "       'tcp.flags.reset', 'tcp.flags.syn', 'tcp.flags.fin', 'tcp.window_size',\n",
        "       'tcp.time_delta','class']"
      ]
    },
    {
      "cell_type": "markdown",
      "metadata": {
        "id": "WZmHNCETahaT"
      },
      "source": [
        "# Drop unwanted columns"
      ]
    },
    {
      "cell_type": "code",
      "execution_count": null,
      "metadata": {
        "id": "13n5FKSJj4Fn"
      },
      "outputs": [],
      "source": [
        "data_normal=data_normal.drop(['ip.src', 'ip.dst','frame.protocols'],axis=1)\n",
        "data_attack=data_attack.drop(['ip.src', 'ip.dst','frame.protocols'],axis=1)\n",
        "# data=data.drop(['ip.src', 'ip.dst','frame.protocols'],axis=1)"
      ]
    },
    {
      "cell_type": "code",
      "execution_count": null,
      "metadata": {
        "id": "EdgboyqDj-AJ"
      },
      "outputs": [],
      "source": [
        "features=[ 'frame.len', 'ip.hdr_len',\n",
        "       'ip.len', 'ip.flags.rb', 'ip.flags.df', 'p.flags.mf', 'ip.frag_offset',\n",
        "       'ip.ttl', 'ip.proto', 'tcp.srcport', 'tcp.dstport',\n",
        "       'tcp.len', 'tcp.ack', 'tcp.flags.res', 'tcp.flags.ns', 'tcp.flags.cwr',\n",
        "       'tcp.flags.ecn', 'tcp.flags.urg', 'tcp.flags.ack', 'tcp.flags.push',\n",
        "       'tcp.flags.reset', 'tcp.flags.syn', 'tcp.flags.fin', 'tcp.window_size',\n",
        "       'tcp.time_delta']"
      ]
    },
    {
      "cell_type": "code",
      "execution_count": null,
      "metadata": {
        "id": "7IxNpgX5kAMg"
      },
      "outputs": [],
      "source": [
        "X_normal= data_normal[features].values\n",
        "X_attack= data_attack[features].values\n",
        "Y_normal= data_normal['class']\n",
        "Y_attack= data_attack['class']\n",
        "X=np.concatenate((X_normal,X_attack))\n",
        "Y=np.concatenate((Y_normal,Y_attack))"
      ]
    },
    {
      "cell_type": "markdown",
      "metadata": {
        "id": "iyLhKuV6ahaU"
      },
      "source": [
        "# Standardise the data"
      ]
    },
    {
      "cell_type": "code",
      "execution_count": null,
      "metadata": {
        "id": "b3xIr2rRkWMX"
      },
      "outputs": [],
      "source": [
        "scalar = StandardScaler(copy=True, with_mean=True, with_std=True)\n",
        "scalar.fit(X)\n",
        "X = scalar.transform(X)"
      ]
    },
    {
      "cell_type": "code",
      "source": [
        "X.shape[0]"
      ],
      "metadata": {
        "id": "OsJel2_zjH1c",
        "outputId": "413afe2b-128f-410b-9608-0c762d91f233",
        "colab": {
          "base_uri": "https://localhost:8080/"
        }
      },
      "execution_count": null,
      "outputs": [
        {
          "output_type": "execute_result",
          "data": {
            "text/plain": [
              "250000"
            ]
          },
          "metadata": {},
          "execution_count": 15
        }
      ]
    },
    {
      "cell_type": "markdown",
      "metadata": {
        "id": "6ZJ6v3ZaahaU"
      },
      "source": [
        "# the class field, replace value 'attack' with 0 and 'normal' with 1"
      ]
    },
    {
      "cell_type": "code",
      "execution_count": null,
      "metadata": {
        "id": "0U1VeOtEkYBX"
      },
      "outputs": [],
      "source": [
        "for i in range(0,len(Y)):\n",
        "  if Y[i] ==\"attack\":\n",
        "    Y[i]=0\n",
        "  else:\n",
        "    Y[i]=1\n"
      ]
    },
    {
      "cell_type": "markdown",
      "metadata": {
        "id": "9z1xymYgahaU"
      },
      "source": [
        "After feature transformation, we get a 𝑚×𝑛' matrix, where 𝑚 indicates the number of packets and 𝑛' indicates the number of new features after transformation. In order to learn patterns in both long and short term, we use a sliding window to separate continuous packets and reshape the data into a series of time windows with window size 𝑇. The label 𝑦 in each window illustrates the last packet. After reshaping, we have a three-dimensional matrix with shape (𝑚−𝑇 )×𝑇 ×𝑛'. Figure illustrates the workflow of feature extraction, transformation, and reshaping.\n",
        "![dataset transformation](feature_extraction.png)\n",
        "In this way, we change the features from conventional packet-based to window-based, by which we can learn network patterns from both previous (𝑇 −1) packets and current packet."
      ]
    },
    {
      "cell_type": "code",
      "execution_count": null,
      "metadata": {
        "id": "PEK_22RTkrvH"
      },
      "outputs": [],
      "source": [
        "features = len(X[0])\n",
        "features\n",
        "samples = X.shape[0]\n",
        "samples\n",
        "train_len = 25\n",
        "input_len = samples - train_len\n",
        "I = np.zeros((samples - train_len, train_len, features))\n",
        "\n",
        "for i in range(input_len):\n",
        "    temp = np.zeros((train_len, features))\n",
        "    for j in range(i, i + train_len - 1):\n",
        "        temp[j-i] = X[j]\n",
        "    I[i] = temp"
      ]
    },
    {
      "cell_type": "code",
      "execution_count": null,
      "metadata": {
        "id": "pMAVQq3AahaV",
        "outputId": "0a8b3b77-5601-493d-b2fa-ffca165dd19c",
        "colab": {
          "base_uri": "https://localhost:8080/"
        }
      },
      "outputs": [
        {
          "output_type": "execute_result",
          "data": {
            "text/plain": [
              "(250000, 25)"
            ]
          },
          "metadata": {},
          "execution_count": 25
        }
      ],
      "source": [
        "X.shape"
      ]
    },
    {
      "cell_type": "code",
      "execution_count": null,
      "metadata": {
        "id": "1l5ft9AblBln"
      },
      "outputs": [],
      "source": [
        "X_train, X_test, Y_train, Y_test = train_test_split(I, Y[25:250000], test_size = 0.2)"
      ]
    },
    {
      "cell_type": "code",
      "source": [
        "X_train.shape"
      ],
      "metadata": {
        "colab": {
          "base_uri": "https://localhost:8080/"
        },
        "id": "LepKaMDrON1g",
        "outputId": "99cd39bb-9fe0-4d2f-a303-fe67b41c4317"
      },
      "execution_count": null,
      "outputs": [
        {
          "output_type": "execute_result",
          "data": {
            "text/plain": [
              "(199980, 25, 25)"
            ]
          },
          "metadata": {},
          "execution_count": 21
        }
      ]
    },
    {
      "cell_type": "markdown",
      "metadata": {
        "id": "7DsNEPjnahaV"
      },
      "source": [
        "The architecture used is\n",
        "![Model](model_brnn.png)"
      ]
    },
    {
      "cell_type": "code",
      "execution_count": null,
      "metadata": {
        "id": "SzHoR1ewdODm"
      },
      "outputs": [],
      "source": [
        "def create_baseline():\n",
        "    model = Sequential()\n",
        "\n",
        "    model.add(Bidirectional(LSTM(64, activation='tanh', kernel_regularizer='l2')))\n",
        "    model.add(Dense(128, activation = 'relu', kernel_regularizer='l2'))\n",
        "    model.add(Dense(1, activation = 'sigmoid', kernel_regularizer='l2'))\n",
        "\n",
        "    model.compile(loss = 'binary_crossentropy', optimizer = 'adam', metrics = ['accuracy'])\n",
        "\n",
        "    return model"
      ]
    },
    {
      "cell_type": "code",
      "execution_count": null,
      "metadata": {
        "id": "fW-zMrYFdVP9"
      },
      "outputs": [],
      "source": [
        "model = create_baseline()"
      ]
    },
    {
      "cell_type": "code",
      "source": [
        "X_train = X_train.astype('float32')\n",
        "Y_train = Y_train.astype('float32')"
      ],
      "metadata": {
        "id": "uIL67Y2HVIop"
      },
      "execution_count": null,
      "outputs": []
    },
    {
      "cell_type": "code",
      "execution_count": null,
      "metadata": {
        "id": "d6nUrwGNdYUP",
        "outputId": "bb8e2378-c864-4633-c0b7-0b71763d88b9",
        "colab": {
          "base_uri": "https://localhost:8080/"
        }
      },
      "outputs": [
        {
          "output_type": "stream",
          "name": "stdout",
          "text": [
            "Epoch 1/50\n",
            "5000/5000 [==============================] - 164s 32ms/step - loss: 0.4847 - accuracy: 0.8023 - val_loss: 0.4114 - val_accuracy: 0.8323\n",
            "Epoch 2/50\n",
            "5000/5000 [==============================] - 161s 32ms/step - loss: 0.3864 - accuracy: 0.8503 - val_loss: 0.3576 - val_accuracy: 0.8683\n",
            "Epoch 3/50\n",
            "5000/5000 [==============================] - 154s 31ms/step - loss: 0.3343 - accuracy: 0.8847 - val_loss: 0.3087 - val_accuracy: 0.9015\n",
            "Epoch 4/50\n",
            "5000/5000 [==============================] - 164s 33ms/step - loss: 0.2934 - accuracy: 0.9076 - val_loss: 0.2798 - val_accuracy: 0.9147\n",
            "Epoch 5/50\n",
            "5000/5000 [==============================] - 148s 30ms/step - loss: 0.2648 - accuracy: 0.9207 - val_loss: 0.2397 - val_accuracy: 0.9355\n",
            "Epoch 6/50\n",
            "5000/5000 [==============================] - 162s 33ms/step - loss: 0.2445 - accuracy: 0.9297 - val_loss: 0.2331 - val_accuracy: 0.9356\n",
            "Epoch 7/50\n",
            "5000/5000 [==============================] - 156s 31ms/step - loss: 0.2325 - accuracy: 0.9355 - val_loss: 0.2042 - val_accuracy: 0.9481\n",
            "Epoch 8/50\n",
            "5000/5000 [==============================] - 158s 32ms/step - loss: 0.2203 - accuracy: 0.9406 - val_loss: 0.2179 - val_accuracy: 0.9420\n",
            "Epoch 9/50\n",
            "5000/5000 [==============================] - 157s 31ms/step - loss: 0.2201 - accuracy: 0.9401 - val_loss: 0.2405 - val_accuracy: 0.9318\n",
            "Epoch 10/50\n",
            "5000/5000 [==============================] - 169s 34ms/step - loss: 0.2139 - accuracy: 0.9449 - val_loss: 0.2391 - val_accuracy: 0.9292\n",
            "Epoch 11/50\n",
            "5000/5000 [==============================] - 162s 32ms/step - loss: 0.2006 - accuracy: 0.9503 - val_loss: 0.1822 - val_accuracy: 0.9565\n",
            "Epoch 12/50\n",
            "5000/5000 [==============================] - 162s 32ms/step - loss: 0.1905 - accuracy: 0.9537 - val_loss: 0.1961 - val_accuracy: 0.9508\n",
            "Epoch 13/50\n",
            "5000/5000 [==============================] - 164s 33ms/step - loss: 0.1887 - accuracy: 0.9538 - val_loss: 0.2411 - val_accuracy: 0.9281\n",
            "Epoch 14/50\n",
            "5000/5000 [==============================] - 164s 33ms/step - loss: 0.1818 - accuracy: 0.9573 - val_loss: 0.1631 - val_accuracy: 0.9648\n",
            "Epoch 15/50\n",
            "5000/5000 [==============================] - 161s 32ms/step - loss: 0.1747 - accuracy: 0.9601 - val_loss: 0.1886 - val_accuracy: 0.9549\n",
            "Epoch 16/50\n",
            "5000/5000 [==============================] - 154s 31ms/step - loss: 0.1751 - accuracy: 0.9598 - val_loss: 0.1623 - val_accuracy: 0.9644\n",
            "Epoch 17/50\n",
            "5000/5000 [==============================] - 154s 31ms/step - loss: 0.1697 - accuracy: 0.9618 - val_loss: 0.1675 - val_accuracy: 0.9636\n",
            "Epoch 18/50\n",
            "5000/5000 [==============================] - 152s 30ms/step - loss: 0.1721 - accuracy: 0.9621 - val_loss: 0.1611 - val_accuracy: 0.9646\n",
            "Epoch 19/50\n",
            "5000/5000 [==============================] - 162s 32ms/step - loss: 0.1670 - accuracy: 0.9640 - val_loss: 0.1506 - val_accuracy: 0.9679\n",
            "Epoch 20/50\n",
            "5000/5000 [==============================] - 153s 31ms/step - loss: 0.1652 - accuracy: 0.9644 - val_loss: 0.1569 - val_accuracy: 0.9643\n",
            "Epoch 21/50\n",
            "5000/5000 [==============================] - 163s 33ms/step - loss: 0.1586 - accuracy: 0.9660 - val_loss: 0.1770 - val_accuracy: 0.9610\n",
            "Epoch 22/50\n",
            "5000/5000 [==============================] - 159s 32ms/step - loss: 0.1569 - accuracy: 0.9674 - val_loss: 0.1585 - val_accuracy: 0.9677\n",
            "Epoch 23/50\n",
            "5000/5000 [==============================] - 154s 31ms/step - loss: 0.1610 - accuracy: 0.9659 - val_loss: 0.1609 - val_accuracy: 0.9670\n",
            "Epoch 24/50\n",
            "5000/5000 [==============================] - 153s 31ms/step - loss: 0.1506 - accuracy: 0.9702 - val_loss: 0.1687 - val_accuracy: 0.9658\n",
            "Epoch 25/50\n",
            "5000/5000 [==============================] - 163s 33ms/step - loss: 0.1455 - accuracy: 0.9718 - val_loss: 0.1617 - val_accuracy: 0.9637\n",
            "Epoch 26/50\n",
            "5000/5000 [==============================] - 152s 30ms/step - loss: 0.1491 - accuracy: 0.9709 - val_loss: 0.1592 - val_accuracy: 0.9639\n",
            "Epoch 27/50\n",
            "5000/5000 [==============================] - 154s 31ms/step - loss: 0.1459 - accuracy: 0.9716 - val_loss: 0.2594 - val_accuracy: 0.9270\n",
            "Epoch 28/50\n",
            "5000/5000 [==============================] - 168s 34ms/step - loss: 0.1464 - accuracy: 0.9722 - val_loss: 0.1436 - val_accuracy: 0.9732\n",
            "Epoch 29/50\n",
            "5000/5000 [==============================] - 165s 33ms/step - loss: 0.1418 - accuracy: 0.9728 - val_loss: 0.1326 - val_accuracy: 0.9763\n",
            "Epoch 30/50\n",
            "5000/5000 [==============================] - 163s 33ms/step - loss: 0.1390 - accuracy: 0.9742 - val_loss: 0.1213 - val_accuracy: 0.9789\n",
            "Epoch 31/50\n",
            "5000/5000 [==============================] - 158s 32ms/step - loss: 0.1394 - accuracy: 0.9738 - val_loss: 0.1178 - val_accuracy: 0.9815\n",
            "Epoch 32/50\n",
            "5000/5000 [==============================] - 167s 33ms/step - loss: 0.1415 - accuracy: 0.9741 - val_loss: 0.1503 - val_accuracy: 0.9692\n",
            "Epoch 33/50\n",
            "5000/5000 [==============================] - 164s 33ms/step - loss: 0.1462 - accuracy: 0.9714 - val_loss: 0.1477 - val_accuracy: 0.9703\n",
            "Epoch 34/50\n",
            "5000/5000 [==============================] - 164s 33ms/step - loss: 0.1363 - accuracy: 0.9752 - val_loss: 0.1323 - val_accuracy: 0.9765\n",
            "Epoch 35/50\n",
            "5000/5000 [==============================] - 164s 33ms/step - loss: 0.1346 - accuracy: 0.9760 - val_loss: 0.1203 - val_accuracy: 0.9794\n",
            "Epoch 36/50\n",
            "5000/5000 [==============================] - 158s 32ms/step - loss: 0.1395 - accuracy: 0.9744 - val_loss: 0.1230 - val_accuracy: 0.9773\n",
            "Epoch 37/50\n",
            "5000/5000 [==============================] - 156s 31ms/step - loss: 0.1316 - accuracy: 0.9774 - val_loss: 0.1179 - val_accuracy: 0.9809\n",
            "Epoch 38/50\n",
            "5000/5000 [==============================] - 155s 31ms/step - loss: 0.1318 - accuracy: 0.9769 - val_loss: 0.2667 - val_accuracy: 0.9219\n",
            "Epoch 39/50\n",
            "5000/5000 [==============================] - 168s 34ms/step - loss: 0.1446 - accuracy: 0.9713 - val_loss: 0.1144 - val_accuracy: 0.9826\n",
            "Epoch 40/50\n",
            "5000/5000 [==============================] - 158s 32ms/step - loss: 0.1282 - accuracy: 0.9776 - val_loss: 0.1161 - val_accuracy: 0.9807\n",
            "Epoch 41/50\n",
            "5000/5000 [==============================] - 166s 33ms/step - loss: 0.1286 - accuracy: 0.9784 - val_loss: 0.1225 - val_accuracy: 0.9781\n",
            "Epoch 42/50\n",
            "5000/5000 [==============================] - 167s 33ms/step - loss: 0.1289 - accuracy: 0.9780 - val_loss: 0.1040 - val_accuracy: 0.9850\n",
            "Epoch 43/50\n",
            "5000/5000 [==============================] - 157s 31ms/step - loss: 0.1266 - accuracy: 0.9785 - val_loss: 0.1169 - val_accuracy: 0.9804\n",
            "Epoch 44/50\n",
            "5000/5000 [==============================] - 166s 33ms/step - loss: 0.1284 - accuracy: 0.9781 - val_loss: 0.1180 - val_accuracy: 0.9813\n",
            "Epoch 45/50\n",
            "5000/5000 [==============================] - 160s 32ms/step - loss: 0.1250 - accuracy: 0.9788 - val_loss: 0.1148 - val_accuracy: 0.9830\n",
            "Epoch 46/50\n",
            "5000/5000 [==============================] - 154s 31ms/step - loss: 0.1423 - accuracy: 0.9703 - val_loss: 0.1792 - val_accuracy: 0.9610\n",
            "Epoch 47/50\n",
            "5000/5000 [==============================] - 168s 34ms/step - loss: 0.1320 - accuracy: 0.9769 - val_loss: 0.1220 - val_accuracy: 0.9775\n",
            "Epoch 48/50\n",
            "5000/5000 [==============================] - 167s 33ms/step - loss: 0.1217 - accuracy: 0.9808 - val_loss: 0.1851 - val_accuracy: 0.9609\n",
            "Epoch 49/50\n",
            "5000/5000 [==============================] - 164s 33ms/step - loss: 0.1260 - accuracy: 0.9795 - val_loss: 0.1256 - val_accuracy: 0.9765\n",
            "Epoch 50/50\n",
            "5000/5000 [==============================] - 156s 31ms/step - loss: 0.1227 - accuracy: 0.9801 - val_loss: 0.1294 - val_accuracy: 0.9777\n"
          ]
        }
      ],
      "source": [
        "history = model.fit(X_train, Y_train, epochs = 50,validation_split=0.2, verbose = 1)"
      ]
    },
    {
      "cell_type": "markdown",
      "metadata": {
        "id": "AdKMDUzPahaV"
      },
      "source": [
        "Obtained plot of accuracy\n",
        "\n",
        "![plot of accuracy](BRNN_Model_Accuracy.png)"
      ]
    },
    {
      "cell_type": "code",
      "execution_count": null,
      "metadata": {
        "id": "7dR8MHphk68X",
        "colab": {
          "base_uri": "https://localhost:8080/",
          "height": 480
        },
        "outputId": "17a84b36-2f25-43ea-c01a-cb87ea32a3cf"
      },
      "outputs": [
        {
          "output_type": "display_data",
          "data": {
            "text/plain": [
              "<Figure size 640x480 with 1 Axes>"
            ],
            "image/png": "[encoded data removed]"
          },
          "metadata": {}
        }
      ],
      "source": [
        "# Plot training & validation accuracy values\n",
        "plt.plot(history.history['accuracy'])\n",
        "plt.plot(history.history['val_accuracy'])\n",
        "plt.title('BRNN Model Accuracy')\n",
        "plt.ylabel('Accuracy')\n",
        "plt.xlabel('Epoch')\n",
        "plt.legend(['Train', 'Test'], loc='lower right')\n",
        "plt.savefig('BRNN Model Accuracy2.png')\n",
        "plt.show()"
      ]
    },
    {
      "cell_type": "markdown",
      "metadata": {
        "id": "920fbqAGahaW"
      },
      "source": [
        "Plot of loss\n",
        "![plot of loss](BRNN_Model_Loss.png)"
      ]
    },
    {
      "cell_type": "code",
      "execution_count": null,
      "metadata": {
        "id": "eKjMDYIOk72N",
        "colab": {
          "base_uri": "https://localhost:8080/",
          "height": 480
        },
        "outputId": "df08241f-af24-4bf8-8e31-dd96ee3fd1ae"
      },
      "outputs": [
        {
          "output_type": "display_data",
          "data": {
            "text/plain": [
              "<Figure size 640x480 with 1 Axes>"
            ],
            "image/png": "[encoded data removed]"
          },
          "metadata": {}
        }
      ],
      "source": [
        "# Plot training & validation loss values\n",
        "plt.plot(history.history['loss'])\n",
        "plt.plot(history.history['val_loss'])\n",
        "plt.title('BRNN Model  Loss')\n",
        "plt.ylabel('Loss')\n",
        "plt.xlabel('Epoch')\n",
        "plt.legend(['Train', 'Test'], loc='upper left')\n",
        "plt.savefig('BRNN Model Loss2.png')\n",
        "plt.show()\n"
      ]
    },
    {
      "cell_type": "code",
      "execution_count": null,
      "metadata": {
        "id": "heMaPerEdn3c",
        "colab": {
          "base_uri": "https://localhost:8080/"
        },
        "outputId": "4c8ec4e2-8364-42a6-cb5f-39355d4708b8"
      },
      "outputs": [
        {
          "output_type": "stream",
          "name": "stdout",
          "text": [
            "1563/1563 [==============================] - 18s 11ms/step\n"
          ]
        }
      ],
      "source": [
        "predict = model.predict(X_test, verbose=1)"
      ]
    },
    {
      "cell_type": "markdown",
      "metadata": {
        "id": "6ECzR2TyahaW"
      },
      "source": [
        "#  Calculate True positive,True negetive,False positive and False negetive values. Create Heatmap."
      ]
    },
    {
      "cell_type": "code",
      "execution_count": null,
      "metadata": {
        "id": "rAjFgVm6uGGp"
      },
      "outputs": [],
      "source": [
        "tp = 0\n",
        "tn = 0\n",
        "fp = 0\n",
        "fn = 0\n",
        "predictn = predict.flatten().round()\n",
        "predictn = predictn.tolist()\n",
        "Y_testn = Y_test.tolist()\n",
        "for i in range(len(Y_testn)):\n",
        "  if predictn[i]==1 and Y_testn[i]==1:\n",
        "    tp+=1\n",
        "  elif predictn[i]==0 and Y_testn[i]==0:\n",
        "    tn+=1\n",
        "  elif predictn[i]==0 and Y_testn[i]==1:\n",
        "    fp+=1\n",
        "  elif predictn[i]==1 and Y_testn[i]==0:\n",
        "    fn+=1\n"
      ]
    },
    {
      "cell_type": "code",
      "execution_count": null,
      "metadata": {
        "id": "0Ad719yjxPL2",
        "colab": {
          "base_uri": "https://localhost:8080/",
          "height": 434
        },
        "outputId": "37d7feaa-78de-41e7-91b5-921fceb0b908"
      },
      "outputs": [
        {
          "output_type": "display_data",
          "data": {
            "text/plain": [
              "<Figure size 640x480 with 2 Axes>"
            ],
            "image/png": "[encoded data removed]"
          },
          "metadata": {}
        }
      ],
      "source": [
        "to_heat_map =[[tn,fp],[fn,tp]]\n",
        "to_heat_map = pd.DataFrame(to_heat_map, index = [\"Attack\",\"Normal\"],columns = [\"Attack\",\"Normal\"])\n",
        "ax = sns.heatmap(to_heat_map,annot=True, fmt=\"d\")"
      ]
    },
    {
      "cell_type": "markdown",
      "metadata": {
        "id": "r1byuSenahaW"
      },
      "source": [
        "# Save details"
      ]
    },
    {
      "cell_type": "code",
      "execution_count": null,
      "metadata": {
        "id": "rMBI_fKCzQBN"
      },
      "outputs": [],
      "source": [
        "figure = ax.get_figure()\n",
        "figure.savefig('confusion_matrix_BRNN2.png', dpi=400)"
      ]
    },
    {
      "cell_type": "code",
      "execution_count": null,
      "metadata": {
        "id": "mdcKrPWEfE44",
        "colab": {
          "base_uri": "https://localhost:8080/"
        },
        "outputId": "ceddce42-e9b3-4a01-ed6b-4ea48bbf93d0"
      },
      "outputs": [
        {
          "output_type": "stream",
          "name": "stderr",
          "text": [
            "/usr/local/lib/python3.10/dist-packages/keras/src/engine/training.py:3103: UserWarning: You are saving your model as an HDF5 file via `model.save()`. This file format is considered legacy. We recommend using instead the native Keras format, e.g. `model.save('my_model.keras')`.\n",
            "  saving_api.save_model(\n"
          ]
        }
      ],
      "source": [
        "model.save('/content/drive/MyDrive/MachineLearningCSV/DeepDefense-master/Netprobe.h5')"
      ]
    },
    {
      "cell_type": "code",
      "source": [
        "X_test = X_test.astype('float32')\n",
        "Y_test = Y_test.astype('float32')"
      ],
      "metadata": {
        "id": "JHTSogOslyEW"
      },
      "execution_count": null,
      "outputs": []
    },
    {
      "cell_type": "code",
      "execution_count": null,
      "metadata": {
        "id": "mv1vi3_KfPHE",
        "colab": {
          "base_uri": "https://localhost:8080/"
        },
        "outputId": "1accf8eb-3d04-4fef-9fb9-d72ccb000d63"
      },
      "outputs": [
        {
          "output_type": "stream",
          "name": "stdout",
          "text": [
            "accuracy: 97.91%\n"
          ]
        }
      ],
      "source": [
        "scores = model.evaluate(X_test, Y_test, verbose=0)\n",
        "print(\"%s: %.2f%%\" % (model.metrics_names[1], scores[1]*100))"
      ]
    },
    {
      "cell_type": "code",
      "execution_count": null,
      "metadata": {
        "id": "bSFX4RNTahaX"
      },
      "outputs": [],
      "source": []
    },
    {
      "cell_type": "code",
      "execution_count": null,
      "metadata": {
        "id": "C6lnjQ5vahaX"
      },
      "outputs": [],
      "source": []
    },
    {
      "cell_type": "code",
      "execution_count": null,
      "metadata": {
        "id": "hM7RoxJaahaX"
      },
      "outputs": [],
      "source": []
    }
  ],
  "metadata": {
    "colab": {
      "provenance": []
    },
    "kernelspec": {
      "display_name": "Python 3",
      "language": "python",
      "name": "python3"
    },
    "language_info": {
      "codemirror_mode": {
        "name": "ipython",
        "version": 3
      },
      "file_extension": ".py",
      "mimetype": "text/x-python",
      "name": "python",
      "nbconvert_exporter": "python",
      "pygments_lexer": "ipython3",
      "version": "3.5.2"
    }
  },
  "nbformat": 4,
  "nbformat_minor": 0
}