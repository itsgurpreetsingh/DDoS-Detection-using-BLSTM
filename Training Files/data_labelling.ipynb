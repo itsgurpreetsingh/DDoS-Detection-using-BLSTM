{
  "nbformat": 4,
  "nbformat_minor": 0,
  "metadata": {
    "colab": {
      "provenance": []
    },
    "kernelspec": {
      "name": "python3",
      "display_name": "Python 3"
    }
  },
  "cells": [
    {
      "cell_type": "code",
      "metadata": {
        "id": "BmCmluZU_l5c",
        "colab": {
          "base_uri": "https://localhost:8080/"
        },
        "outputId": "7f5c8804-a4bb-49e1-9a79-5ba14312aea1"
      },
      "source": [
        "from google.colab import drive\n",
        "drive.mount('/content/drive',force_remount=True)\n"
      ],
      "execution_count": null,
      "outputs": [
        {
          "output_type": "stream",
          "name": "stdout",
          "text": [
            "Mounted at /content/drive\n"
          ]
        }
      ]
    },
    {
      "cell_type": "code",
      "source": [
        "!pip install nest_asyncio\n",
        "import nest_asyncio\n",
        "nest_asyncio.apply()"
      ],
      "metadata": {
        "colab": {
          "base_uri": "https://localhost:8080/"
        },
        "id": "G3QrCYprsfAB",
        "outputId": "002304d9-3a9b-4a9e-c698-e4b6c06b91fc"
      },
      "execution_count": null,
      "outputs": [
        {
          "output_type": "stream",
          "name": "stdout",
          "text": [
            "Requirement already satisfied: nest_asyncio in /usr/local/lib/python3.10/dist-packages (1.6.0)\n"
          ]
        }
      ]
    },
    {
      "cell_type": "code",
      "metadata": {
        "id": "ddPqbwqXCOVg",
        "outputId": "2532cfe3-d9fc-4a61-ad95-16cffd4bfb16",
        "colab": {
          "base_uri": "https://localhost:8080/"
        }
      },
      "source": [
        "!pip install pyshark\n",
        "!sudo apt-get install tshark\n",
        "nest_asyncio.apply()"
      ],
      "execution_count": null,
      "outputs": [
        {
          "output_type": "stream",
          "name": "stdout",
          "text": [
            "Collecting pyshark\n",
            "  Downloading pyshark-0.6-py3-none-any.whl (41 kB)\n",
            "\u001b[?25l     \u001b[90m━━━━━━━━━━━━━━━━━━━━━━━━━━━━━━━━━━━━━━━━\u001b[0m \u001b[32m0.0/41.4 kB\u001b[0m \u001b[31m?\u001b[0m eta \u001b[36m-:--:--\u001b[0m\r\u001b[2K     \u001b[90m━━━━━━━━━━━━━━━━━━━━━━━━━━━━━━━━━━━━━━━━\u001b[0m \u001b[32m41.4/41.4 kB\u001b[0m \u001b[31m1.9 MB/s\u001b[0m eta \u001b[36m0:00:00\u001b[0m\n",
            "\u001b[?25hRequirement already satisfied: lxml in /usr/local/lib/python3.10/dist-packages (from pyshark) (4.9.4)\n",
            "Requirement already satisfied: termcolor in /usr/local/lib/python3.10/dist-packages (from pyshark) (2.4.0)\n",
            "Requirement already satisfied: packaging in /usr/local/lib/python3.10/dist-packages (from pyshark) (23.2)\n",
            "Requirement already satisfied: appdirs in /usr/local/lib/python3.10/dist-packages (from pyshark) (1.4.4)\n",
            "Installing collected packages: pyshark\n",
            "Successfully installed pyshark-0.6\n",
            "Reading package lists... Done\n",
            "Building dependency tree... Done\n",
            "Reading state information... Done\n",
            "The following additional packages will be installed:\n",
            "  libbcg729-0 libc-ares2 liblua5.2-0 libmaxminddb0 libnl-genl-3-200 libpcap0.8\n",
            "  libsbc1 libsmi2ldbl libspandsp2 libspeexdsp1 libwireshark-data\n",
            "  libwireshark15 libwiretap12 libwsutil13 wireshark-common\n",
            "Suggested packages:\n",
            "  mmdb-bin snmp-mibs-downloader geoipupdate geoip-database\n",
            "  geoip-database-extra libjs-leaflet libjs-leaflet.markercluster wireshark-doc\n",
            "The following NEW packages will be installed:\n",
            "  libbcg729-0 libc-ares2 liblua5.2-0 libmaxminddb0 libnl-genl-3-200 libpcap0.8\n",
            "  libsbc1 libsmi2ldbl libspandsp2 libspeexdsp1 libwireshark-data\n",
            "  libwireshark15 libwiretap12 libwsutil13 tshark wireshark-common\n",
            "0 upgraded, 16 newly installed, 0 to remove and 35 not upgraded.\n",
            "Need to get 23.0 MB of archives.\n",
            "After this operation, 120 MB of additional disk space will be used.\n",
            "Get:1 http://archive.ubuntu.com/ubuntu jammy/main amd64 libmaxminddb0 amd64 1.5.2-1build2 [24.7 kB]\n",
            "Get:2 http://archive.ubuntu.com/ubuntu jammy/main amd64 libpcap0.8 amd64 1.10.1-4build1 [145 kB]\n",
            "Get:3 http://archive.ubuntu.com/ubuntu jammy/universe amd64 libbcg729-0 amd64 1.1.1-2 [32.9 kB]\n",
            "Get:4 http://archive.ubuntu.com/ubuntu jammy/universe amd64 liblua5.2-0 amd64 5.2.4-2 [125 kB]\n",
            "Get:5 http://archive.ubuntu.com/ubuntu jammy/main amd64 libnl-genl-3-200 amd64 3.5.0-0.1 [12.4 kB]\n",
            "Get:6 http://archive.ubuntu.com/ubuntu jammy/universe amd64 libsmi2ldbl amd64 0.4.8+dfsg2-16 [100 kB]\n",
            "Get:7 http://archive.ubuntu.com/ubuntu jammy/universe amd64 libspandsp2 amd64 0.0.6+dfsg-2 [272 kB]\n",
            "Get:8 http://archive.ubuntu.com/ubuntu jammy/main amd64 libspeexdsp1 amd64 1.2~rc1.2-1.1ubuntu3 [42.5 kB]\n",
            "Get:9 http://archive.ubuntu.com/ubuntu jammy/universe amd64 libwireshark-data all 3.6.2-2 [1,647 kB]\n",
            "Get:10 http://archive.ubuntu.com/ubuntu jammy-updates/main amd64 libc-ares2 amd64 1.18.1-1ubuntu0.22.04.3 [45.1 kB]\n",
            "Get:11 http://archive.ubuntu.com/ubuntu jammy/main amd64 libsbc1 amd64 1.5-3build2 [34.4 kB]\n",
            "Get:12 http://archive.ubuntu.com/ubuntu jammy/universe amd64 libwsutil13 amd64 3.6.2-2 [99.2 kB]\n",
            "Get:13 http://archive.ubuntu.com/ubuntu jammy/universe amd64 libwiretap12 amd64 3.6.2-2 [255 kB]\n",
            "Get:14 http://archive.ubuntu.com/ubuntu jammy/universe amd64 libwireshark15 amd64 3.6.2-2 [19.5 MB]\n",
            "Get:15 http://archive.ubuntu.com/ubuntu jammy/universe amd64 wireshark-common amd64 3.6.2-2 [473 kB]\n",
            "Get:16 http://archive.ubuntu.com/ubuntu jammy/universe amd64 tshark amd64 3.6.2-2 [157 kB]\n",
            "Fetched 23.0 MB in 4s (5,762 kB/s)\n",
            "debconf: unable to initialize frontend: Dialog\n",
            "debconf: (No usable dialog-like program is installed, so the dialog based frontend cannot be used. at /usr/share/perl5/Debconf/FrontEnd/Dialog.pm line 78, <> line 16.)\n",
            "debconf: falling back to frontend: Readline\n",
            "debconf: unable to initialize frontend: Readline\n",
            "debconf: (This frontend requires a controlling tty.)\n",
            "debconf: falling back to frontend: Teletype\n",
            "dpkg-preconfigure: unable to re-open stdin: \n",
            "Selecting previously unselected package libmaxminddb0:amd64.\n",
            "(Reading database ... 121749 files and directories currently installed.)\n",
            "Preparing to unpack .../00-libmaxminddb0_1.5.2-1build2_amd64.deb ...\n",
            "Unpacking libmaxminddb0:amd64 (1.5.2-1build2) ...\n",
            "Selecting previously unselected package libpcap0.8:amd64.\n",
            "Preparing to unpack .../01-libpcap0.8_1.10.1-4build1_amd64.deb ...\n",
            "Unpacking libpcap0.8:amd64 (1.10.1-4build1) ...\n",
            "Selecting previously unselected package libbcg729-0:amd64.\n",
            "Preparing to unpack .../02-libbcg729-0_1.1.1-2_amd64.deb ...\n",
            "Unpacking libbcg729-0:amd64 (1.1.1-2) ...\n",
            "Selecting previously unselected package liblua5.2-0:amd64.\n",
            "Preparing to unpack .../03-liblua5.2-0_5.2.4-2_amd64.deb ...\n",
            "Unpacking liblua5.2-0:amd64 (5.2.4-2) ...\n",
            "Selecting previously unselected package libnl-genl-3-200:amd64.\n",
            "Preparing to unpack .../04-libnl-genl-3-200_3.5.0-0.1_amd64.deb ...\n",
            "Unpacking libnl-genl-3-200:amd64 (3.5.0-0.1) ...\n",
            "Selecting previously unselected package libsmi2ldbl:amd64.\n",
            "Preparing to unpack .../05-libsmi2ldbl_0.4.8+dfsg2-16_amd64.deb ...\n",
            "Unpacking libsmi2ldbl:amd64 (0.4.8+dfsg2-16) ...\n",
            "Selecting previously unselected package libspandsp2:amd64.\n",
            "Preparing to unpack .../06-libspandsp2_0.0.6+dfsg-2_amd64.deb ...\n",
            "Unpacking libspandsp2:amd64 (0.0.6+dfsg-2) ...\n",
            "Selecting previously unselected package libspeexdsp1:amd64.\n",
            "Preparing to unpack .../07-libspeexdsp1_1.2~rc1.2-1.1ubuntu3_amd64.deb ...\n",
            "Unpacking libspeexdsp1:amd64 (1.2~rc1.2-1.1ubuntu3) ...\n",
            "Selecting previously unselected package libwireshark-data.\n",
            "Preparing to unpack .../08-libwireshark-data_3.6.2-2_all.deb ...\n",
            "Unpacking libwireshark-data (3.6.2-2) ...\n",
            "Selecting previously unselected package libc-ares2:amd64.\n",
            "Preparing to unpack .../09-libc-ares2_1.18.1-1ubuntu0.22.04.3_amd64.deb ...\n",
            "Unpacking libc-ares2:amd64 (1.18.1-1ubuntu0.22.04.3) ...\n",
            "Selecting previously unselected package libsbc1:amd64.\n",
            "Preparing to unpack .../10-libsbc1_1.5-3build2_amd64.deb ...\n",
            "Unpacking libsbc1:amd64 (1.5-3build2) ...\n",
            "Selecting previously unselected package libwsutil13:amd64.\n",
            "Preparing to unpack .../11-libwsutil13_3.6.2-2_amd64.deb ...\n",
            "Unpacking libwsutil13:amd64 (3.6.2-2) ...\n",
            "Selecting previously unselected package libwiretap12:amd64.\n",
            "Preparing to unpack .../12-libwiretap12_3.6.2-2_amd64.deb ...\n",
            "Unpacking libwiretap12:amd64 (3.6.2-2) ...\n",
            "Selecting previously unselected package libwireshark15:amd64.\n",
            "Preparing to unpack .../13-libwireshark15_3.6.2-2_amd64.deb ...\n",
            "Unpacking libwireshark15:amd64 (3.6.2-2) ...\n",
            "Selecting previously unselected package wireshark-common.\n",
            "Preparing to unpack .../14-wireshark-common_3.6.2-2_amd64.deb ...\n",
            "Unpacking wireshark-common (3.6.2-2) ...\n",
            "Selecting previously unselected package tshark.\n",
            "Preparing to unpack .../15-tshark_3.6.2-2_amd64.deb ...\n",
            "Unpacking tshark (3.6.2-2) ...\n",
            "Setting up libsbc1:amd64 (1.5-3build2) ...\n",
            "Setting up libbcg729-0:amd64 (1.1.1-2) ...\n",
            "Setting up libmaxminddb0:amd64 (1.5.2-1build2) ...\n",
            "Setting up libc-ares2:amd64 (1.18.1-1ubuntu0.22.04.3) ...\n",
            "Setting up libspandsp2:amd64 (0.0.6+dfsg-2) ...\n",
            "Setting up libsmi2ldbl:amd64 (0.4.8+dfsg2-16) ...\n",
            "Setting up libwsutil13:amd64 (3.6.2-2) ...\n",
            "Setting up libpcap0.8:amd64 (1.10.1-4build1) ...\n",
            "Setting up libwiretap12:amd64 (3.6.2-2) ...\n",
            "Setting up libwireshark-data (3.6.2-2) ...\n",
            "Setting up liblua5.2-0:amd64 (5.2.4-2) ...\n",
            "Setting up libnl-genl-3-200:amd64 (3.5.0-0.1) ...\n",
            "Setting up libspeexdsp1:amd64 (1.2~rc1.2-1.1ubuntu3) ...\n",
            "Setting up libwireshark15:amd64 (3.6.2-2) ...\n",
            "Setting up wireshark-common (3.6.2-2) ...\n",
            "debconf: unable to initialize frontend: Dialog\n",
            "debconf: (No usable dialog-like program is installed, so the dialog based frontend cannot be used. at /usr/share/perl5/Debconf/FrontEnd/Dialog.pm line 78.)\n",
            "debconf: falling back to frontend: Readline\n",
            "Configuring wireshark-common\n",
            "----------------------------\n",
            "\n",
            "Dumpcap can be installed in a way that allows members of the \"wireshark\" system\n",
            "group to capture packets. This is recommended over the alternative of running\n",
            "Wireshark/Tshark directly as root, because less of the code will run with\n",
            "elevated privileges.\n",
            "\n",
            "For more detailed information please see\n",
            "/usr/share/doc/wireshark-common/README.Debian.gz once the package is installed.\n",
            "\n",
            "Enabling this feature may be a security risk, so it is disabled by default. If\n",
            "in doubt, it is suggested to leave it disabled.\n",
            "\n",
            "\u001b[4mShould non-superusers be able to capture packets? [yes/no] \u001b[m\u001b[1myes\n",
            "\u001b[m\u001b[m\n",
            "Setting up tshark (3.6.2-2) ...\n",
            "Processing triggers for hicolor-icon-theme (0.17-2) ...\n",
            "Processing triggers for libc-bin (2.35-0ubuntu3.4) ...\n",
            "/sbin/ldconfig.real: /usr/local/lib/libtbbbind_2_5.so.3 is not a symbolic link\n",
            "\n",
            "/sbin/ldconfig.real: /usr/local/lib/libtbbbind.so.3 is not a symbolic link\n",
            "\n",
            "/sbin/ldconfig.real: /usr/local/lib/libtbbbind_2_0.so.3 is not a symbolic link\n",
            "\n",
            "/sbin/ldconfig.real: /usr/local/lib/libtbbmalloc.so.2 is not a symbolic link\n",
            "\n",
            "/sbin/ldconfig.real: /usr/local/lib/libtbbmalloc_proxy.so.2 is not a symbolic link\n",
            "\n",
            "/sbin/ldconfig.real: /usr/local/lib/libtbb.so.12 is not a symbolic link\n",
            "\n",
            "Processing triggers for man-db (2.10.2-1) ...\n",
            "Processing triggers for shared-mime-info (2.1-2) ...\n"
          ]
        }
      ]
    },
    {
      "cell_type": "code",
      "metadata": {
        "id": "511jhXiP_xUh"
      },
      "source": [
        "\n",
        "!cd /content/drive/MyDrive/MachineLearningCSV/DeepDefense-master\n",
        "\n"
      ],
      "execution_count": null,
      "outputs": []
    },
    {
      "cell_type": "code",
      "metadata": {
        "id": "ePGngzglEKjm"
      },
      "source": [
        "import requests\n",
        "import xml.etree.ElementTree as et\n",
        "import pyshark\n",
        "import csv"
      ],
      "execution_count": null,
      "outputs": []
    },
    {
      "cell_type": "code",
      "metadata": {
        "id": "jNWkPWRqEOp_"
      },
      "source": [
        "# cap = pyshark.FileCapture('/content/drive/MyDrive/MachineLearningCSV/DeepDefense-master/Datasets/CICDS_Wednesday/Wednesday_00600_20170705055056.pcap')"
      ],
      "execution_count": null,
      "outputs": []
    },
    {
      "cell_type": "code",
      "source": [],
      "metadata": {
        "id": "wbk0O45NoHPX"
      },
      "execution_count": null,
      "outputs": []
    },
    {
      "cell_type": "code",
      "metadata": {
        "id": "SwEcXv_BpprX"
      },
      "source": [
        "xml_list = []\n",
        "packet_list = []\n",
        "tag = \"attack\""
      ],
      "execution_count": null,
      "outputs": []
    },
    {
      "cell_type": "code",
      "metadata": {
        "id": "W-qFhmtgeVhm"
      },
      "source": [
        "# root = xml_tree.getroot()\n",
        "\n",
        "# for child in root:\n",
        "#   temp = []\n",
        "#   for element in child:\n",
        "#     if element.tag == \"source\":\n",
        "#       temp.append(str(''.join(element.itertext())))\n",
        "#     elif element.tag == \"destination\":\n",
        "#         temp.append(str(''.join(element.itertext())))\n",
        "#     elif element.tag == \"sourcePort\":\n",
        "#       temp.append(str(''.join(element.itertext())))\n",
        "#     elif element.tag == \"destinationPort\":\n",
        "#         temp.append(str(''.join(element.itertext())))\n",
        "#     elif element.tag == \"Tag\":\n",
        "#         temp.append(str(''.join(element.itertext())))\n",
        "#   xml_list.append(temp)\n",
        "headings = [\"frame.encap_type\",\"frame.len\",\"frame.protocols\",\"ip.hdr_len\",\"ip.len\"\\\n",
        "             ,\"ip.flags.rb\",\"ip.flags.df\",\"p.flags.mf\",\"ip.frag_offset\",\"ip.ttl\",\\\n",
        "             \"ip.proto\",\"ip.src\",\"ip.dst\",\"tcp.srcport\",\"tcp.dstport\",\"tcp.len\",\\\n",
        "             \"tcp.ack\",\"tcp.flags.res\",\"tcp.flags.ns\",\"tcp.flags.cwr\",\"tcp.flags.ecn\",\\\n",
        "             \"tcp.flags.urg\",\"tcp.flags.ack\",\"tcp.flags.push\",\"tcp.flags.reset\",\\\n",
        "             \"tcp.flags.syn\",\"tcp.flags.fin\",\"tcp.window_size\",\"tcp.time_delta\"]\n",
        "packet_list.append(headings)"
      ],
      "execution_count": null,
      "outputs": []
    },
    {
      "cell_type": "code",
      "metadata": {
        "id": "myFYwZpCESVZ"
      },
      "source": [
        "# for packet in cap:\n",
        "#   temp = []\n",
        "#   temp.append(str(packet.frame_info._all_fields[\"frame.encap_type\"]) )#0\n",
        "#   temp.append(str(packet.frame_info._all_fields[\"frame.len\"])) #1\n",
        "#   temp.append(str(packet.frame_info._all_fields[\"frame.protocols\"])) #2\n",
        "#   if hasattr(packet, 'ip'):\n",
        "#     temp.append(str(packet.ip._all_fields['ip.hdr_len']))#3\n",
        "#     temp.append(str(packet.ip._all_fields['ip.len']))#4\n",
        "#     temp.append(str(packet.ip._all_fields['ip.flags.rb']))#5\n",
        "#     temp.append(str(packet.ip._all_fields['ip.flags.df']))#6\n",
        "#     temp.append(str(packet.ip._all_fields['ip.flags.mf']))#7\n",
        "#     temp.append(str(packet.ip._all_fields['ip.frag_offset']))#8\n",
        "#     temp.append(str(packet.ip._all_fields['ip.ttl']))#9\n",
        "#     temp.append(str(packet.ip._all_fields['ip.proto']))#10\n",
        "#     temp.append(str(packet.ip._all_fields['ip.src']))#10\n",
        "#     temp.append(str(packet.ip._all_fields['ip.dst']))#11\n",
        "#   else:\n",
        "#     temp.extend([\"0\",\"0\",\"0\",\"0\",\"0\",\"0\",\"0\",\"0\",\"0\",\"0\"])\n",
        "#   if hasattr(packet, 'tcp'):\n",
        "#     temp.append(str(packet.tcp._all_fields['tcp.srcport']))#12\n",
        "#     temp.append(str(packet.tcp._all_fields['tcp.dstport']))#13\n",
        "#     temp.append(str(packet.tcp._all_fields['tcp.len']))#14\n",
        "#     temp.append(str(packet.tcp._all_fields['tcp.ack']))#15\n",
        "#     temp.append(str(packet.tcp._all_fields['tcp.flags.res']))#16\n",
        "#     temp.append(str(packet.tcp._all_fields['tcp.flags.ns']))#17\n",
        "#     temp.append(str(packet.tcp._all_fields['tcp.flags.cwr']))#18\n",
        "#     temp.append(str(packet.tcp._all_fields['tcp.flags.ecn']))#19\n",
        "#     temp.append(str(packet.tcp._all_fields['tcp.flags.urg']))#20\n",
        "#     temp.append(str(packet.tcp._all_fields['tcp.flags.ack']))#21\n",
        "#     temp.append(str(packet.tcp._all_fields['tcp.flags.push']))#22\n",
        "#     temp.append(str(packet.tcp._all_fields['tcp.flags.reset']))#23\n",
        "#     temp.append(str(packet.tcp._all_fields['tcp.flags.syn']))#24\n",
        "#     temp.append(str(packet.tcp._all_fields['tcp.flags.fin']))#25\n",
        "#     temp.append(str(packet.tcp._all_fields['tcp.window_size']))#26\n",
        "#     #temp.append(packet.tcp._all_fields['tcp.analysis.bytes_in_flight'])\n",
        "#     #temp.append(packet.tcp._all_fields['tcp.analysis.push_bytes_sent'])\n",
        "#     temp.append(str(packet.tcp._all_fields['tcp.time_delta']))#27\n",
        "#   else:\n",
        "#     temp.extend([\"0\",\"0\",\"0\",\"0\",\"0\",\"0\",\"0\",\"0\",\"0\",\"0\",\"0\",\"0\",\"0\",\"0\",\"0\",\"0\",])\n",
        "#   temp.append(tag)\n",
        "#   packet_list.append(temp)\n",
        "# #   count=0\n",
        "# #   for i in xml_list:\n",
        "# #     if temp[11]==i[0] and temp[12]==i[2] and temp[13]==i[1] and temp[14]==i[3]:\n",
        "# #       temp.append(str(i[4]))\n",
        "# #       j += 1\n",
        "# #       count=count+1\n",
        "# #       if count != 0 and count != 1:\n",
        "# #         print(\"problem with count===\"+str(count))\n",
        "# #       packet_list.append(temp)\n",
        "# #       if(j % 100 == 0):\n",
        "# #         print(\"*\"+\"===\"+str(j)+\"===\"+str((i[4])))\n"
      ],
      "execution_count": null,
      "outputs": []
    },
    {
      "cell_type": "code",
      "metadata": {
        "id": "kj0jnm8jHzgx"
      },
      "source": [
        "# with open('/content/drive/MyDrive/MachineLearningCSV/DeepDefense-master/Datasets/dataset_attack.csv', 'w') as writeFile:\n",
        "#   writer = csv.writer(writeFile)\n",
        "#   writer.writerows(packet_list)"
      ],
      "execution_count": null,
      "outputs": []
    },
    {
      "cell_type": "code",
      "metadata": {
        "id": "eL46nTKX4dsa"
      },
      "source": [
        "import os\n",
        "pcap_directory = '/content/drive/MyDrive/MachineLearningCSV/DeepDefense-master/Datasets/CICDS_Wednesday/'\n",
        "\n",
        "# Iterate over each file in the directory\n",
        "# packet_list=[]\n",
        "for filename in os.listdir(pcap_directory):\n",
        "    if filename.endswith('.pcap'):\n",
        "        file_path = os.path.join(pcap_directory, filename)\n",
        "\n",
        "        # Read the pcap file\n",
        "        cap = pyshark.FileCapture(file_path)\n",
        "\n",
        "        # Process the pcap file\n",
        "        for packet in cap:\n",
        "          temp = []\n",
        "          temp.append(str(packet.frame_info._all_fields[\"frame.encap_type\"]) )#0\n",
        "          temp.append(str(packet.frame_info._all_fields[\"frame.len\"])) #1\n",
        "          temp.append(str(packet.frame_info._all_fields[\"frame.protocols\"])) #2\n",
        "          if hasattr(packet, 'ip'):\n",
        "            temp.append(str(packet.ip._all_fields['ip.hdr_len']))#3\n",
        "            temp.append(str(packet.ip._all_fields['ip.len']))#4\n",
        "            temp.append(str(packet.ip._all_fields['ip.flags.rb']))#5\n",
        "            temp.append(str(packet.ip._all_fields['ip.flags.df']))#6\n",
        "            temp.append(str(packet.ip._all_fields['ip.flags.mf']))#7\n",
        "            temp.append(str(packet.ip._all_fields['ip.frag_offset']))#8\n",
        "            temp.append(str(packet.ip._all_fields['ip.ttl']))#9\n",
        "            temp.append(str(packet.ip._all_fields['ip.proto']))#10\n",
        "            temp.append(str(packet.ip._all_fields['ip.src']))#10\n",
        "            temp.append(str(packet.ip._all_fields['ip.dst']))#11\n",
        "          else:\n",
        "            temp.extend([\"0\",\"0\",\"0\",\"0\",\"0\",\"0\",\"0\",\"0\",\"0\",\"0\"])\n",
        "          if hasattr(packet, 'tcp'):\n",
        "            temp.append(str(packet.tcp._all_fields['tcp.srcport']))#12\n",
        "            temp.append(str(packet.tcp._all_fields['tcp.dstport']))#13\n",
        "            temp.append(str(packet.tcp._all_fields['tcp.len']))#14\n",
        "            temp.append(str(packet.tcp._all_fields['tcp.ack']))#15\n",
        "            temp.append(str(packet.tcp._all_fields['tcp.flags.res']))#16\n",
        "            temp.append(str(packet.tcp._all_fields['tcp.flags.ns']))#17\n",
        "            temp.append(str(packet.tcp._all_fields['tcp.flags.cwr']))#18\n",
        "            temp.append(str(packet.tcp._all_fields['tcp.flags.ecn']))#19\n",
        "            temp.append(str(packet.tcp._all_fields['tcp.flags.urg']))#20\n",
        "            temp.append(str(packet.tcp._all_fields['tcp.flags.ack']))#21\n",
        "            temp.append(str(packet.tcp._all_fields['tcp.flags.push']))#22\n",
        "            temp.append(str(packet.tcp._all_fields['tcp.flags.reset']))#23\n",
        "            temp.append(str(packet.tcp._all_fields['tcp.flags.syn']))#24\n",
        "            temp.append(str(packet.tcp._all_fields['tcp.flags.fin']))#25\n",
        "            temp.append(str(packet.tcp._all_fields['tcp.window_size']))#26\n",
        "    #temp.append(packet.tcp._all_fields['tcp.analysis.bytes_in_flight'])\n",
        "    #temp.append(packet.tcp._all_fields['tcp.analysis.push_bytes_sent'])\n",
        "            temp.append(str(packet.tcp._all_fields['tcp.time_delta']))#27\n",
        "          else:\n",
        "            temp.extend([\"0\",\"0\",\"0\",\"0\",\"0\",\"0\",\"0\",\"0\",\"0\",\"0\",\"0\",\"0\",\"0\",\"0\",\"0\",\"0\",])\n",
        "          temp.append(tag)\n",
        "          packet_list.append(temp)\n"
      ],
      "execution_count": null,
      "outputs": []
    },
    {
      "cell_type": "code",
      "source": [
        "len(packet_list)"
      ],
      "metadata": {
        "colab": {
          "base_uri": "https://localhost:8080/"
        },
        "id": "btSEs-0I4dPl",
        "outputId": "89091681-cc09-432e-d951-16c8fc0c5952"
      },
      "execution_count": null,
      "outputs": [
        {
          "output_type": "execute_result",
          "data": {
            "text/plain": [
              "150001"
            ]
          },
          "metadata": {},
          "execution_count": 60
        }
      ]
    },
    {
      "cell_type": "code",
      "source": [
        "with open('/content/drive/MyDrive/MachineLearningCSV/DeepDefense-master/Datasets/dataset_attackfinal.csv', 'w') as writeFile:\n",
        "  writer = csv.writer(writeFile)\n",
        "  writer.writerows(packet_list)"
      ],
      "metadata": {
        "id": "lWZnVo-qnGke"
      },
      "execution_count": null,
      "outputs": []
    }
  ]
}